{
  "nbformat": 4,
  "nbformat_minor": 0,
  "metadata": {
    "accelerator": "GPU",
    "colab": {
      "provenance": []
    },
    "kernelspec": {
      "display_name": "Python 3",
      "language": "python",
      "name": "python3"
    },
    "language_info": {
      "codemirror_mode": {
        "name": "ipython",
        "version": 3
      },
      "file_extension": ".py",
      "mimetype": "text/x-python",
      "name": "python",
      "nbconvert_exporter": "python",
      "pygments_lexer": "ipython3",
      "version": "3.8.5"
    }
  },
  "cells": [
    {
      "cell_type": "markdown",
      "metadata": {
        "id": "ObyHCH8HvHSf"
      },
      "source": [
        "\n",
        "# *Data Science Unit 4 Sprint 2 Assignment 1*\n",
        "\n",
        "Use TensorFlow Keras and a sample of the [Quickdraw dataset](https://github.com/googlecreativelab/quickdraw-dataset) to build a sketch classification model. The dataset has been sampled to only 10 classes and 10000 observations per class. \n",
        "\n",
        "### Objective\n",
        "\n",
        "- Build a baseline classification model then, run a few experiments with different optimizers and learning rates. \n",
        "- Don't forget to [**switch to GPU if you're running your notebook on Colab!**](https://colab.research.google.com/notebooks/gpu.ipynb)"
      ]
    },
    {
      "cell_type": "markdown",
      "metadata": {
        "id": "s-Tc3ovEyQ9b"
      },
      "source": [
        "## Load Your Data"
      ]
    },
    {
      "cell_type": "code",
      "metadata": {
        "id": "CkU0pAYCvU8o"
      },
      "source": [
        "# imports in first cell \n",
        "import seaborn as sns\n",
        "import pandas as pd\n",
        "import numpy as np\n",
        "import tensorflow as tf \n",
        "import matplotlib.pyplot as plt\n",
        "from sklearn.utils import shuffle\n",
        "\n",
        "# use Sequential to build out your model\n",
        "from tensorflow.keras.models import Sequential\n",
        "\n",
        "# Dense layer is used for Fully Connected Forward Feeding networks\n",
        "from tensorflow.keras.layers import Dense"
      ],
      "execution_count": 1,
      "outputs": []
    },
    {
      "cell_type": "markdown",
      "metadata": {
        "id": "UT2HFvSgDlFQ"
      },
      "source": [
        "Note that the 28x28 quickdraw images have already been \"flattened\" into 784: dimensional vectors"
      ]
    },
    {
      "cell_type": "code",
      "metadata": {
        "id": "S1XYJRQKLj1B",
        "colab": {
          "base_uri": "https://localhost:8080/"
        },
        "outputId": "0ac66ae4-219c-402b-adf7-7770f12b5121"
      },
      "source": [
        "# load the quickdraw data set\n",
        "!git clone https://github.com/LambdaSchool/DS-Unit-4-Sprint-2-Neural-Networks\n",
        "data = np.load('/content/DS-Unit-4-Sprint-2-Neural-Networks/quickdraw10.npz')\n",
        "\n",
        "X = data['arr_0']\n",
        "y = data['arr_1']\n",
        "\n",
        "print(X.shape)\n",
        "print(y.shape)"
      ],
      "execution_count": 2,
      "outputs": [
        {
          "output_type": "stream",
          "name": "stdout",
          "text": [
            "fatal: destination path 'DS-Unit-4-Sprint-2-Neural-Networks' already exists and is not an empty directory.\n",
            "(100000, 784)\n",
            "(100000,)\n"
          ]
        }
      ]
    },
    {
      "cell_type": "markdown",
      "metadata": {
        "id": "mvMjoB_yDZTL"
      },
      "source": [
        "These are the names of the 10 image classes"
      ]
    },
    {
      "cell_type": "code",
      "metadata": {
        "id": "c8qsDqdqvHDd"
      },
      "source": [
        "class_names = ['apple',\n",
        "             'anvil',\n",
        "             'airplane',\n",
        "             'banana',\n",
        "             'The Eiffel Tower',\n",
        "             'The Mona Lisa',\n",
        "             'The Great Wall of China',\n",
        "             'alarm clock',\n",
        "             'ant',\n",
        "             'asparagus']"
      ],
      "execution_count": 3,
      "outputs": []
    },
    {
      "cell_type": "markdown",
      "metadata": {
        "id": "VxuY8RYXD9S4"
      },
      "source": [
        "We can explore the data a bit by reshaping the vectors back to images and displaying them with their labels. <br>\n",
        "Turns out the data has 10 blocks of 10,000 images of each of the above labels, in order. <br>\n",
        "So the code below displays the first image of each class."
      ]
    },
    {
      "cell_type": "code",
      "metadata": {
        "id": "Owbm1EbxvA5A",
        "colab": {
          "base_uri": "https://localhost:8080/",
          "height": 293
        },
        "outputId": "dc92ad30-7b33-4b42-9a69-19b718bf95c4"
      },
      "source": [
        "# these are your 10 unique images\n",
        "plt.figure(figsize=(10,5))\n",
        "start = 0\n",
        "\n",
        "for num, name in enumerate(class_names):\n",
        "    plt.subplot(2,5, num+1)\n",
        "    plt.xticks([])\n",
        "    plt.yticks([])\n",
        "    plt.grid(False)\n",
        "    plt.imshow(X[start].reshape(28,28),cmap=plt.cm.binary)\n",
        "    plt.xlabel(name)\n",
        "    start += 10000\n",
        "plt.show()"
      ],
      "execution_count": 4,
      "outputs": [
        {
          "output_type": "display_data",
          "data": {
            "text/plain": [
              "<Figure size 720x360 with 10 Axes>"
            ],
            "image/png": "[encoded data removed]"
          },
          "metadata": {}
        }
      ]
    },
    {
      "cell_type": "markdown",
      "metadata": {
        "id": "Av6i6t5QLj1D"
      },
      "source": [
        "Say hello to the Quickdraw dataset!\n",
        "\n",
        "You'll be using this dataset a lot this week as an alternative to the MNIST digits data set, which we'll use in the guided projects. The nice thing about this dataset is that it's simple, which allows us to focus on our model, its various components, and gradually come to a better understanding of how to build neural networks without worrying about cleaning and prepping our image data much."
      ]
    },
    {
      "cell_type": "code",
      "metadata": {
        "id": "c97_M1WNvTNY"
      },
      "source": [
        "# always a good idea to shuffle your dataset!\n",
        "X, y = shuffle(X, y)"
      ],
      "execution_count": 5,
      "outputs": []
    },
    {
      "cell_type": "markdown",
      "metadata": {
        "id": "jb70CbLVyK65"
      },
      "source": [
        "-----\n",
        "\n",
        "## Build Your Baseline Model\n",
        "\n",
        "Make sure that you\n",
        "\n",
        "- **Determine** the dimensionality of your input data by investigating **X**\n",
        "- **Normalize** your input data to values between 0 and 1 \n",
        "- **Determine** the number of neurons in your output layer by investigating **Y**\n",
        "- **Select** `sparse_categorical_crossentropy` as your loss function.\n",
        "- **Select** `sgd` as your optimizer.\n",
        "- **Add** 3 hidden layers to your model with the following number of nodes\n",
        "    - h1 has 500 nodes\n",
        "    - h2 has 250 nodes\n",
        "    - h3 has 100 nodes\n",
        "    \n",
        "- **Set** epochs to 20 \n",
        "- **Use** the `validation_split` keyword in `model.fit()` to automatically create a training / validation dataset from within the model. Specify a percentage, such as `validation_split = 0.2`\n",
        " \n",
        "Not sure what the various parameters are for or what values to assign to them?\n",
        "\n",
        "- Reference the guided project notebook for Sprint 2 Module 1\n",
        "- Reference the [**Keras documentation**](https://keras.io/api/)\n",
        "- Google other examples\n",
        "- Discuss your results with classmates "
      ]
    },
    {
      "cell_type": "code",
      "metadata": {
        "deletable": false,
        "nbgrader": {
          "cell_type": "code",
          "checksum": "ef20dd34df6998e0a50e394d59d58659",
          "grade": false,
          "grade_id": "cell-907b9348d7a2ebb3",
          "locked": false,
          "schema_version": 3,
          "solution": true,
          "task": false
        },
        "id": "f133nwpOLj1G"
      },
      "source": [
        "# get dim of image row vectors and save to input_dim\n",
        "input_dim = X.shape[1]\n",
        "# get number of unique labels and save to n_output_labels\n",
        "n_output_labels = len(np.unique(y))\n",
        "# normalize image data to values between 0 and 1 (by dividing by max pixel value)\n",
        "X_scaled = X.astype('float32') / 255\n"
      ],
      "execution_count": 6,
      "outputs": []
    },
    {
      "cell_type": "code",
      "metadata": {
        "id": "vOufsWS3Lj1G"
      },
      "source": [
        "# a check on your data prep \n",
        "assert  X_scaled.max(), \"Max pixel value should be 1.0, make sure you normalize your data\""
      ],
      "execution_count": 7,
      "outputs": []
    },
    {
      "cell_type": "code",
      "metadata": {
        "deletable": false,
        "id": "zHWblzsMyNkU",
        "nbgrader": {
          "cell_type": "code",
          "checksum": "f0ba174cb72f491f73c3aa7df8ae7ac4",
          "grade": false,
          "grade_id": "cell-b7c96fc46d86725f",
          "locked": false,
          "schema_version": 3,
          "solution": true,
          "task": false
        }
      },
      "source": [
        "# instantiate a sequential object and call it model, then add the layers to your model\n",
        "model = Sequential()\n",
        "# add a compile layer but don't fit your model yet \n",
        "model.add(Dense(500, input_dim=input_dim, activation='relu'))\n",
        "model.add(Dense(250, activation='relu'))\n",
        "model.add(Dense(100, activation='relu'))\n",
        "model.add(Dense(n_output_labels, activation='softmax'))\n",
        "model.compile(loss='sparse_categorical_crossentropy', optimizer='sgd', metrics=['accuracy'])\n"
      ],
      "execution_count": 8,
      "outputs": []
    },
    {
      "cell_type": "code",
      "metadata": {
        "id": "ojLnGDklLj1H"
      },
      "source": [
        "# a check on your model architecture \n",
        "n_layers = len(model.get_config()[\"layers\"])\n",
        "assert n_layers == 5, \"You should have 5 layers: input, h1, h2, h3, and output\""
      ],
      "execution_count": 9,
      "outputs": []
    },
    {
      "cell_type": "code",
      "metadata": {
        "id": "wMK2_DtJLj1I",
        "colab": {
          "base_uri": "https://localhost:8080/"
        },
        "outputId": "26d61a3c-35da-4bca-b771-ccbf89455a9f"
      },
      "source": [
        "# check out your model summary \n",
        "model.summary()\n",
        "epochs = 47"
      ],
      "execution_count": 16,
      "outputs": [
        {
          "output_type": "stream",
          "name": "stdout",
          "text": [
            "Model: \"sequential\"\n",
            "_________________________________________________________________\n",
            " Layer (type)                Output Shape              Param #   \n",
            "=================================================================\n",
            " dense (Dense)               (None, 500)               392500    \n",
            "                                                                 \n",
            " dense_1 (Dense)             (None, 250)               125250    \n",
            "                                                                 \n",
            " dense_2 (Dense)             (None, 100)               25100     \n",
            "                                                                 \n",
            " dense_3 (Dense)             (None, 10)                1010      \n",
            "                                                                 \n",
            "=================================================================\n",
            "Total params: 543,860\n",
            "Trainable params: 543,860\n",
            "Non-trainable params: 0\n",
            "_________________________________________________________________\n"
          ]
        }
      ]
    },
    {
      "cell_type": "code",
      "metadata": {
        "id": "DXTSbEiyLj1I",
        "colab": {
          "base_uri": "https://localhost:8080/"
        },
        "outputId": "cce33179-9374-48bb-f819-9bbc1ef284d0"
      },
      "source": [
        "# fit your model and save training results to history \n",
        "history = model.fit(X_scaled, y, \n",
        "                    epochs=epochs, \n",
        "                    # a held-out validation set will be generated within the model\n",
        "                    validation_split=0.2\n",
        "                   )"
      ],
      "execution_count": 17,
      "outputs": [
        {
          "output_type": "stream",
          "name": "stdout",
          "text": [
            "Epoch 1/47\n",
            "2500/2500 [==============================] - 9s 4ms/step - loss: 0.1135 - accuracy: 0.9696 - val_loss: 0.5135 - val_accuracy: 0.8737\n",
            "Epoch 2/47\n",
            "2500/2500 [==============================] - 11s 4ms/step - loss: 0.1011 - accuracy: 0.9733 - val_loss: 0.5371 - val_accuracy: 0.8713\n",
            "Epoch 3/47\n",
            "2500/2500 [==============================] - 12s 5ms/step - loss: 0.0907 - accuracy: 0.9764 - val_loss: 0.5541 - val_accuracy: 0.8709\n",
            "Epoch 4/47\n",
            "2500/2500 [==============================] - 11s 4ms/step - loss: 0.0802 - accuracy: 0.9797 - val_loss: 0.5708 - val_accuracy: 0.8738\n",
            "Epoch 5/47\n",
            "2500/2500 [==============================] - 14s 5ms/step - loss: 0.0716 - accuracy: 0.9819 - val_loss: 0.5945 - val_accuracy: 0.8705\n",
            "Epoch 6/47\n",
            "2500/2500 [==============================] - 9s 4ms/step - loss: 0.0633 - accuracy: 0.9844 - val_loss: 0.6202 - val_accuracy: 0.8691\n",
            "Epoch 7/47\n",
            "2500/2500 [==============================] - 10s 4ms/step - loss: 0.0559 - accuracy: 0.9869 - val_loss: 0.6231 - val_accuracy: 0.8694\n",
            "Epoch 8/47\n",
            "2500/2500 [==============================] - 10s 4ms/step - loss: 0.0493 - accuracy: 0.9885 - val_loss: 0.6513 - val_accuracy: 0.8708\n",
            "Epoch 9/47\n",
            "2500/2500 [==============================] - 9s 4ms/step - loss: 0.0433 - accuracy: 0.9906 - val_loss: 0.6465 - val_accuracy: 0.8723\n",
            "Epoch 10/47\n",
            "2500/2500 [==============================] - 9s 3ms/step - loss: 0.0375 - accuracy: 0.9920 - val_loss: 0.6852 - val_accuracy: 0.8688\n",
            "Epoch 11/47\n",
            "2500/2500 [==============================] - 9s 4ms/step - loss: 0.0323 - accuracy: 0.9934 - val_loss: 0.6928 - val_accuracy: 0.8715\n",
            "Epoch 12/47\n",
            "2500/2500 [==============================] - 10s 4ms/step - loss: 0.0286 - accuracy: 0.9945 - val_loss: 0.7193 - val_accuracy: 0.8665\n",
            "Epoch 13/47\n",
            "2500/2500 [==============================] - 9s 4ms/step - loss: 0.0258 - accuracy: 0.9950 - val_loss: 0.7344 - val_accuracy: 0.8698\n",
            "Epoch 14/47\n",
            "2500/2500 [==============================] - 10s 4ms/step - loss: 0.0226 - accuracy: 0.9959 - val_loss: 0.7292 - val_accuracy: 0.8709\n",
            "Epoch 15/47\n",
            "2500/2500 [==============================] - 14s 6ms/step - loss: 0.0206 - accuracy: 0.9962 - val_loss: 0.7648 - val_accuracy: 0.8666\n",
            "Epoch 16/47\n",
            "2500/2500 [==============================] - 9s 4ms/step - loss: 0.0182 - accuracy: 0.9966 - val_loss: 0.7637 - val_accuracy: 0.8683\n",
            "Epoch 17/47\n",
            "2500/2500 [==============================] - 10s 4ms/step - loss: 0.0164 - accuracy: 0.9970 - val_loss: 0.7793 - val_accuracy: 0.8687\n",
            "Epoch 18/47\n",
            "2500/2500 [==============================] - 11s 4ms/step - loss: 0.0158 - accuracy: 0.9970 - val_loss: 0.7827 - val_accuracy: 0.8706\n",
            "Epoch 19/47\n",
            "2500/2500 [==============================] - 10s 4ms/step - loss: 0.0140 - accuracy: 0.9976 - val_loss: 0.7898 - val_accuracy: 0.8687\n",
            "Epoch 20/47\n",
            "2500/2500 [==============================] - 11s 4ms/step - loss: 0.0115 - accuracy: 0.9982 - val_loss: 0.8076 - val_accuracy: 0.8716\n",
            "Epoch 21/47\n",
            "2500/2500 [==============================] - 10s 4ms/step - loss: 0.0109 - accuracy: 0.9983 - val_loss: 0.8167 - val_accuracy: 0.8719\n",
            "Epoch 22/47\n",
            "2500/2500 [==============================] - 12s 5ms/step - loss: 0.0096 - accuracy: 0.9985 - val_loss: 0.8224 - val_accuracy: 0.8709\n",
            "Epoch 23/47\n",
            "2500/2500 [==============================] - 9s 4ms/step - loss: 0.0088 - accuracy: 0.9986 - val_loss: 0.8346 - val_accuracy: 0.8702\n",
            "Epoch 24/47\n",
            "2500/2500 [==============================] - 10s 4ms/step - loss: 0.0082 - accuracy: 0.9987 - val_loss: 0.8481 - val_accuracy: 0.8702\n",
            "Epoch 25/47\n",
            "2500/2500 [==============================] - 9s 4ms/step - loss: 0.0079 - accuracy: 0.9987 - val_loss: 0.8661 - val_accuracy: 0.8694\n",
            "Epoch 26/47\n",
            "2500/2500 [==============================] - 9s 4ms/step - loss: 0.0077 - accuracy: 0.9987 - val_loss: 0.8603 - val_accuracy: 0.8690\n",
            "Epoch 27/47\n",
            "2500/2500 [==============================] - 10s 4ms/step - loss: 0.0069 - accuracy: 0.9989 - val_loss: 0.8855 - val_accuracy: 0.8681\n",
            "Epoch 28/47\n",
            "2500/2500 [==============================] - 9s 4ms/step - loss: 0.0064 - accuracy: 0.9989 - val_loss: 0.8858 - val_accuracy: 0.8672\n",
            "Epoch 29/47\n",
            "2500/2500 [==============================] - 9s 4ms/step - loss: 0.0060 - accuracy: 0.9991 - val_loss: 0.8901 - val_accuracy: 0.8700\n",
            "Epoch 30/47\n",
            "2500/2500 [==============================] - 9s 4ms/step - loss: 0.0062 - accuracy: 0.9988 - val_loss: 0.8884 - val_accuracy: 0.8706\n",
            "Epoch 31/47\n",
            "2500/2500 [==============================] - 11s 4ms/step - loss: 0.0057 - accuracy: 0.9990 - val_loss: 0.9036 - val_accuracy: 0.8690\n",
            "Epoch 32/47\n",
            "2500/2500 [==============================] - 9s 4ms/step - loss: 0.0057 - accuracy: 0.9990 - val_loss: 0.9066 - val_accuracy: 0.8712\n",
            "Epoch 33/47\n",
            "2500/2500 [==============================] - 11s 4ms/step - loss: 0.0051 - accuracy: 0.9991 - val_loss: 0.9097 - val_accuracy: 0.8704\n",
            "Epoch 34/47\n",
            "2500/2500 [==============================] - 9s 4ms/step - loss: 0.0052 - accuracy: 0.9990 - val_loss: 0.9332 - val_accuracy: 0.8669\n",
            "Epoch 35/47\n",
            "2500/2500 [==============================] - 9s 4ms/step - loss: 0.0052 - accuracy: 0.9991 - val_loss: 0.9275 - val_accuracy: 0.8694\n",
            "Epoch 36/47\n",
            "2500/2500 [==============================] - 10s 4ms/step - loss: 0.0042 - accuracy: 0.9993 - val_loss: 0.9313 - val_accuracy: 0.8687\n",
            "Epoch 37/47\n",
            "2500/2500 [==============================] - 9s 4ms/step - loss: 0.0047 - accuracy: 0.9990 - val_loss: 0.9390 - val_accuracy: 0.8687\n",
            "Epoch 38/47\n",
            "2500/2500 [==============================] - 9s 4ms/step - loss: 0.0043 - accuracy: 0.9992 - val_loss: 0.9492 - val_accuracy: 0.8685\n",
            "Epoch 39/47\n",
            "2500/2500 [==============================] - 10s 4ms/step - loss: 0.0042 - accuracy: 0.9992 - val_loss: 0.9561 - val_accuracy: 0.8688\n",
            "Epoch 40/47\n",
            "2500/2500 [==============================] - 10s 4ms/step - loss: 0.0041 - accuracy: 0.9991 - val_loss: 0.9852 - val_accuracy: 0.8672\n",
            "Epoch 41/47\n",
            "2500/2500 [==============================] - 12s 5ms/step - loss: 0.0039 - accuracy: 0.9994 - val_loss: 0.9581 - val_accuracy: 0.8707\n",
            "Epoch 42/47\n",
            "2500/2500 [==============================] - 9s 4ms/step - loss: 0.0034 - accuracy: 0.9994 - val_loss: 0.9666 - val_accuracy: 0.8692\n",
            "Epoch 43/47\n",
            "2500/2500 [==============================] - 9s 3ms/step - loss: 0.0038 - accuracy: 0.9992 - val_loss: 1.0259 - val_accuracy: 0.8613\n",
            "Epoch 44/47\n",
            "2500/2500 [==============================] - 10s 4ms/step - loss: 0.0035 - accuracy: 0.9993 - val_loss: 0.9769 - val_accuracy: 0.8698\n",
            "Epoch 45/47\n",
            "2500/2500 [==============================] - 17s 7ms/step - loss: 0.0035 - accuracy: 0.9994 - val_loss: 0.9793 - val_accuracy: 0.8702\n",
            "Epoch 46/47\n",
            "2500/2500 [==============================] - 14s 5ms/step - loss: 0.0036 - accuracy: 0.9992 - val_loss: 0.9828 - val_accuracy: 0.8679\n",
            "Epoch 47/47\n",
            "2500/2500 [==============================] - 12s 5ms/step - loss: 0.0031 - accuracy: 0.9994 - val_loss: 0.9844 - val_accuracy: 0.8683\n"
          ]
        }
      ]
    },
    {
      "cell_type": "markdown",
      "metadata": {
        "id": "b0QJURWh-9uv"
      },
      "source": [
        "----\n",
        "### Visualize the Results\n",
        "\n",
        "- Move results in `history` to a dataframe. \n",
        "- Use [**Seaborn**](https://seaborn.pydata.org/generated/seaborn.lineplot.html) to create line plots for both loss and accuracy by epoch. \n",
        "- Analyze the results and write a couple of observations. \n",
        "\n",
        "At what point should we have stopped training the model and why? "
      ]
    },
    {
      "cell_type": "code",
      "metadata": {
        "deletable": false,
        "id": "ijAlzfYKAFaY",
        "nbgrader": {
          "cell_type": "code",
          "checksum": "6ef8cde40701c2ef57cf853b19455125",
          "grade": false,
          "grade_id": "cell-16e647cfc3291a01",
          "locked": false,
          "schema_version": 3,
          "solution": true,
          "task": false
        }
      },
      "source": [
        "df = pd.DataFrame(history.history)\n"
      ],
      "execution_count": 12,
      "outputs": []
    },
    {
      "cell_type": "code",
      "metadata": {
        "id": "jFTzaMcALj1J"
      },
      "source": [
        "# a check on our model training\n",
        "assert df.shape[0] == 20, \"df should have the training results from 20 epochs\""
      ],
      "execution_count": 13,
      "outputs": []
    },
    {
      "cell_type": "code",
      "metadata": {
        "deletable": false,
        "nbgrader": {
          "cell_type": "code",
          "checksum": "424d241660318a72ecda935be10485d7",
          "grade": false,
          "grade_id": "cell-96dba18873c4cffc",
          "locked": false,
          "schema_version": 3,
          "solution": true,
          "task": false
        },
        "id": "i6NnocuJLj1J",
        "colab": {
          "base_uri": "https://localhost:8080/",
          "height": 279
        },
        "outputId": "b4945b4f-5297-4953-c30d-3d51ce895f5a"
      },
      "source": [
        "# use seaborn to plot loss and accuracy metrics\n",
        "sns.lineplot(data = df[['loss', 'val_loss']])\n",
        "sns.lineplot(data = df[['accuracy', 'val_accuracy']])\n",
        "plt.legend(labels=['Training', 'Validation'])\n",
        "plt.xlabel('Epoch')\n",
        "plt.ylabel('Met')\n",
        "plt.show()"
      ],
      "execution_count": 14,
      "outputs": [
        {
          "output_type": "display_data",
          "data": {
            "text/plain": [
              "<Figure size 432x288 with 1 Axes>"
            ],
            "image/png": "[encoded data removed]"
          },
          "metadata": {
            "needs_background": "light"
          }
        }
      ]
    },
    {
      "cell_type": "markdown",
      "metadata": {
        "id": "GmjyuTlrLj1K"
      },
      "source": [
        "### Observations \n",
        "\n",
        "Based on the plot of the training and validation loss, answer the following questions. "
      ]
    },
    {
      "cell_type": "markdown",
      "metadata": {
        "id": "NF_mrNmPLj1K"
      },
      "source": [
        "**Was our model able to learn throughout the 20 epochs? Why or why not?**"
      ]
    },
    {
      "cell_type": "markdown",
      "metadata": {
        "deletable": false,
        "nbgrader": {
          "cell_type": "markdown",
          "checksum": "b7713eb32ad3a910a58dfdb9494a9db3",
          "grade": true,
          "grade_id": "cell-820990a8232a858a",
          "locked": false,
          "points": 0,
          "schema_version": 3,
          "solution": true,
          "task": false
        },
        "id": "yL42yLWELj1K"
      },
      "source": [
        "\n",
        "\n",
        "```\n",
        "Doesn't seem like it. Looked like the training data did better than the validation overall since the val_data's loss metric's increasing between each epoch without much change in accuracy.\n",
        "```\n",
        "\n",
        "YOUR ANSWER HERE"
      ]
    },
    {
      "cell_type": "markdown",
      "metadata": {
        "id": "_xKObFanLj1K"
      },
      "source": [
        "**Is our model overfitting? Why or why not?**"
      ]
    },
    {
      "cell_type": "markdown",
      "metadata": {
        "deletable": false,
        "nbgrader": {
          "cell_type": "markdown",
          "checksum": "1d30c64465cd35081d70578c20ecf96d",
          "grade": true,
          "grade_id": "cell-33868e7ef6e401b5",
          "locked": false,
          "points": 0,
          "schema_version": 3,
          "solution": true,
          "task": false
        },
        "id": "rx7xa4Z1Lj1L"
      },
      "source": [
        "It seems like it. There's not much inversion between validation loss and accuracy as the training data shows."
      ]
    },
    {
      "cell_type": "markdown",
      "metadata": {
        "id": "FIvb1mftLj1L"
      },
      "source": [
        "**Could the model score benefit from additional epochs? Why or why not?**"
      ]
    },
    {
      "cell_type": "markdown",
      "metadata": {
        "deletable": false,
        "nbgrader": {
          "cell_type": "markdown",
          "checksum": "0fc2208e2c78461578fc7a05224066b8",
          "grade": true,
          "grade_id": "cell-5c883f0a3161e469",
          "locked": false,
          "points": 0,
          "schema_version": 3,
          "solution": true,
          "task": false
        },
        "id": "Ww1hBmfMLj1L"
      },
      "source": [
        "Nope. Just tried it. Even worse."
      ]
    },
    {
      "cell_type": "markdown",
      "metadata": {
        "id": "MAhBrcE4yOZe"
      },
      "source": [
        "-----\n",
        "## Change Optimizers\n",
        "\n",
        "Let's compare model performance between different optimizers. \n",
        "- Build a new model, identical to the last one but using `adam` for the optimizer. \n",
        "- Train (fit) the model\n",
        "- Save the modeling results to adam_history, so we don't erase the results from the previous model run\n",
        "- Visualize the training results just as we did for the last model. \n"
      ]
    },
    {
      "cell_type": "code",
      "metadata": {
        "deletable": false,
        "id": "jIW_spOZ0cxy",
        "nbgrader": {
          "cell_type": "code",
          "checksum": "6d30d8c6f4521861a77c9ef04dbde904",
          "grade": false,
          "grade_id": "cell-56663c8a5e75b71f",
          "locked": false,
          "schema_version": 3,
          "solution": true,
          "task": false
        }
      },
      "source": [
        "# train the same model as above but use the sgd optimizer if you used adam previously (or use adam if you used sgd previously)\n",
        "\n",
        "adammod = Sequential([\n",
        "Dense(500, input_dim=input_dim, activation='relu'),\n",
        "Dense(250, activation='relu'),\n",
        "Dense(100, activation='relu'),\n",
        "Dense(n_output_labels, activation='softmax')\n",
        "])\n",
        "\n",
        "adammod.compile(loss='sparse_categorical_crossentropy',\n",
        "optimizer='adam',\n",
        "metrics=['accuracy'])"
      ],
      "execution_count": 18,
      "outputs": []
    },
    {
      "cell_type": "code",
      "metadata": {
        "id": "u9DQypQOLj1L"
      },
      "source": [
        "# a check that we're using the correct optimizer in this model\n",
        "opt_name = model.optimizer.get_config()[\"name\"]\n",
        "assert opt_name == \"Adam\", \"you need to use adam for the optimizer in this model.\""
      ],
      "execution_count": null,
      "outputs": []
    },
    {
      "cell_type": "code",
      "metadata": {
        "deletable": false,
        "nbgrader": {
          "cell_type": "code",
          "checksum": "1a4c01aa7dbcc832d75b05bffaeaacc8",
          "grade": false,
          "grade_id": "cell-20118d1646215346",
          "locked": false,
          "schema_version": 3,
          "solution": true,
          "task": false
        },
        "id": "wBVj55zVLj1L"
      },
      "source": [
        "adam_history = adammod.fit(X_scaled, y,\n",
        "epochs=epochs,\n",
        "validation_split=0.2)"
      ],
      "execution_count": null,
      "outputs": []
    },
    {
      "cell_type": "code",
      "source": [
        "sns.set()\n",
        "plt.plot(history.history['accuracy'], label='SGD')\n",
        "plt.plot(adam_history.history['accuracy'], label='Adam')\n",
        "plt.title('Training Accuracy')\n",
        "plt.xlabel('Epoch')\n",
        "plt.ylabel('Accuracy')\n",
        "plt.legend()\n",
        "plt.show()\n",
        "\n",
        "plt.plot(history.history['loss'], label='SGD')\n",
        "plt.plot(adam_history.history['loss'], label='Adam')\n",
        "plt.title('Training Loss')\n",
        "plt.xlabel('Epoch')\n",
        "plt.ylabel('Loss')\n",
        "plt.legend()\n",
        "plt.show()"
      ],
      "metadata": {
        "id": "TUuBWPbeWo0i"
      },
      "execution_count": null,
      "outputs": []
    },
    {
      "cell_type": "markdown",
      "metadata": {
        "id": "XECc5OtzLj1M"
      },
      "source": [
        "### Observations \n",
        "\n",
        "This plot should look very different from the previous plot. Based on the plot of the training and validation loss, answer the following questions. "
      ]
    },
    {
      "cell_type": "markdown",
      "metadata": {
        "id": "tK8B5CszLj1M"
      },
      "source": [
        "**Is our model overfitting? Why or why not?**"
      ]
    },
    {
      "cell_type": "markdown",
      "metadata": {
        "deletable": false,
        "nbgrader": {
          "cell_type": "markdown",
          "checksum": "fa4141497af675d227aa510feb8db732",
          "grade": true,
          "grade_id": "cell-7e524ccac970c33e",
          "locked": false,
          "points": 0,
          "schema_version": 3,
          "solution": true,
          "task": false
        },
        "id": "Fn6C8NWTLj1M"
      },
      "source": [
        "YOUR ANSWER HERE"
      ]
    },
    {
      "cell_type": "markdown",
      "metadata": {
        "id": "ygXQYH8ILj1M"
      },
      "source": [
        "**Could our model's performance improve by training on more than 20 epochs? Why or why not?**"
      ]
    },
    {
      "cell_type": "markdown",
      "metadata": {
        "deletable": false,
        "nbgrader": {
          "cell_type": "markdown",
          "checksum": "ae03b8b897eb5d052590574ab3bba839",
          "grade": true,
          "grade_id": "cell-456c40e885652955",
          "locked": false,
          "points": 0,
          "schema_version": 3,
          "solution": true,
          "task": false
        },
        "id": "Sa5SRkB1Lj1M"
      },
      "source": [
        "YOUR ANSWER HERE"
      ]
    },
    {
      "cell_type": "markdown",
      "metadata": {
        "id": "bNxtLggeLj1M"
      },
      "source": [
        "**Assuming that you want to stick to this model architecture, what can you do to avoid overfitting?**"
      ]
    },
    {
      "cell_type": "markdown",
      "metadata": {
        "deletable": false,
        "nbgrader": {
          "cell_type": "markdown",
          "checksum": "9f5a9393314231d3ce253363c1df1223",
          "grade": true,
          "grade_id": "cell-74d7def19c66702b",
          "locked": false,
          "points": 0,
          "schema_version": 3,
          "solution": true,
          "task": false
        },
        "id": "tfztMm3rLj1M"
      },
      "source": [
        "YOUR ANSWER HERE"
      ]
    },
    {
      "cell_type": "markdown",
      "metadata": {
        "id": "ViaTP68cLj1M"
      },
      "source": [
        "------\n",
        "# Conclusion \n",
        "\n",
        "You have observed by comparing the two models that are identical except for the optimizer, that the choice of the optimizer can considerably influence the performance of a neural network. \n",
        "\n",
        "You might not know \n",
        "\n",
        "- why changing the optimizer from Stochastic Gradient Descent over to Adam made a difference.\n",
        "- how Gradient Descent works \n",
        "- or that Adam is known as Adaptive Gradient Descent (i.e., is it a different version of ordinary Gradient Descent). \n",
        "\n",
        "But that's ok - tomorrow's lesson will be a deep dive into Gradient Descent. You'll learn the theory of Gradient Descent, we'll code up Gradient Descent from scratch, and we'll talk about how Adam is different from ordinary Gradient Descent. "
      ]
    },
    {
      "cell_type": "markdown",
      "metadata": {
        "id": "8v_TuVH5Lj1N"
      },
      "source": [
        "-----\n",
        "# Preparation for Tomorrow \n",
        "\n",
        "In preparation for tomorrow, you might need to watch a few videos. I say it might because you may or may not already be comfortable with multi-variate calculus. \n",
        "\n",
        "### Theory of Calculus \n",
        "The theory of Gradient Descent rests on [**the derivative from Calculus**](https://www.youtube.com/watch?v=WUvTyaaNkzM). If you've never taken a Calculus course before, or are a bit rusty, definitely watch this video in preparation for tomorrow's lesson. The takeaway here is to understand the derivative conceptually; you won't be asked to calculate any derivatives by hand. \n",
        "\n",
        "### The Gradient - a Multi-Dimensional Derivative\n",
        "Once you've watched the previous video, you will be ready to understand how to conceptualize a derivative in an N-dimensional space (where N is any number ranging from 2, 3, 4, ..., all the way to a very large number of dimensions N ). [**This video visually explains the multi-dimensional derivative called the Gradient visually**](https://www.youtube.com/watch?v=GkB4vW16QHI) - and that's the takeaway. The point of this video is to help you understand the Gradient visually using 3D surfaces. You should also know that the Gradient is made up of partial derivatives, more on this tomorrow. \n",
        "\n",
        "### Contour Maps \n",
        "It is very common to visual 3D surfaces as 2D contour maps - and we'll be making a lot of use of contour maps to understand Gradient Descent. Watch this video to [**understand the relationship between 3D surfaces and 2D contour maps.**](https://www.youtube.com/watch?v=acdX4YamDtU)\n",
        "\n",
        "### The Calculus of Backpropagation \n",
        "\n",
        "Unlike standard Sklearn ML models, neural networks use Gradient Descent and something called Backpropagatin to learn from the data. [**In order to understand how backpropagation works, you need to understand the Chain Rule in Calculus**](https://www.youtube.com/watch?v=acdX4YamDtU). The takeaway here is to understand how a partial derivative can be decomposed into a product of multiple derivatives. "
      ]
    },
    {
      "cell_type": "markdown",
      "metadata": {
        "id": "XCjBp0vTLj1N"
      },
      "source": [
        "------\n",
        "# Stretch Goals\n",
        "\n",
        "### This Section is Optional!\n",
        "\n",
        "Only after you've completed the above work and watched the recommended videos are you then encouraged to experiment with building a few more models and analyze their results. \n",
        "\n",
        "Here are some suggestions to help you get started. \n",
        "\n",
        "- Train the same model using the Sigmoid and Relu activation functions and note the difference in their learning outcomes. [**Keras docs on activation functions**](https://keras.io/api/layers/activations/). We'll cover the Relu activation function in Sprint 2 Module 3.\n",
        "- Train the same model using normalized and non-normalized data and note the difference in their learning outcomes. \n",
        "\n",
        "\n",
        "The objective here is to get more practice with the Keras API (i.e., building models) and run a couple of experiments to help set you up for future lessons. In order words, we'll be discussing different activation functions and the effect of normalized data on model training."
      ]
    },
    {
      "cell_type": "code",
      "metadata": {
        "id": "5F1VQLmALj1N",
        "colab": {
          "base_uri": "https://localhost:8080/"
        },
        "outputId": "17cf625b-b65e-423b-ff14-d54838d98523"
      },
      "source": [
        "sigmoid = Sequential([\n",
        "    Dense(500, activation='sigmoid', input_dim=input_dim),\n",
        "    Dense(250, activation='sigmoid'),\n",
        "    Dense(100, activation='sigmoid'),\n",
        "    Dense(n_output_labels, activation='softmax')\n",
        "])\n",
        "\n",
        "sigmoid.compile(loss='sparse_categorical_crossentropy', optimizer='sgd', metrics=['accuracy'])\n",
        "histosigmoid = sigmoid.fit(X_scaled, y, epochs=epochs, validation_split=0.2)\n",
        "\n",
        "sns.lineplot(data=pd.DataFrame(histosigmoid.history)[['loss', 'val_loss']], palette=\"tab10\", linewidth=2.5)\n",
        "sns.lineplot(data=pd.DataFrame(histosigmoid.history)[['accuracy', 'val_accuracy']], palette=\"tab10\", linewidth=2.5)\n",
        "plt.legend(labels=['Train loss', 'Validation loss', 'Train accuracy', 'Validation accuracy'])\n",
        "plt.show()"
      ],
      "execution_count": null,
      "outputs": [
        {
          "output_type": "stream",
          "name": "stdout",
          "text": [
            "Epoch 1/47\n",
            "2500/2500 [==============================] - 14s 5ms/step - loss: 2.2956 - accuracy: 0.1333 - val_loss: 2.2792 - val_accuracy: 0.1002\n",
            "Epoch 2/47\n",
            "2500/2500 [==============================] - 12s 5ms/step - loss: 2.2454 - accuracy: 0.2683 - val_loss: 2.1897 - val_accuracy: 0.3137\n",
            "Epoch 3/47\n",
            "2500/2500 [==============================] - 12s 5ms/step - loss: 1.9958 - accuracy: 0.4136 - val_loss: 1.7513 - val_accuracy: 0.4493\n",
            "Epoch 4/47\n",
            "2500/2500 [==============================] - 11s 4ms/step - loss: 1.5945 - accuracy: 0.4926 - val_loss: 1.4621 - val_accuracy: 0.5735\n",
            "Epoch 5/47\n",
            "2500/2500 [==============================] - 10s 4ms/step - loss: 1.3683 - accuracy: 0.5788 - val_loss: 1.2679 - val_accuracy: 0.6205\n",
            "Epoch 6/47\n",
            "2500/2500 [==============================] - 9s 4ms/step - loss: 1.1964 - accuracy: 0.6354 - val_loss: 1.1247 - val_accuracy: 0.6666\n",
            "Epoch 7/47\n",
            "2500/2500 [==============================] - 9s 3ms/step - loss: 1.0723 - accuracy: 0.6769 - val_loss: 1.0246 - val_accuracy: 0.6922\n",
            "Epoch 8/47\n",
            "1636/2500 [==================>...........] - ETA: 2s - loss: 1.0010 - accuracy: 0.7000"
          ]
        }
      ]
    },
    {
      "cell_type": "code",
      "source": [
        "relu = Sequential([\n",
        "    Dense(500, activation='relu', input_dim=input_dim),\n",
        "    Dense(250, activation='relu'),\n",
        "    Dense(100, activation='relu'),\n",
        "    Dense(n_output_labels, activation='softmax')\n",
        "])\n",
        "\n",
        "relu.compile(loss='sparse_categorical_crossentropy', optimizer='sgd', metrics=['accuracy'])\n",
        "historelu = relu.fit(X_scaled, y, epochs=epochs, validation_split=0.2)\n",
        "\n",
        "sns.lineplot(data=pd.DataFrame(historelu.history)[['loss', 'val_loss']], palette=\"tab10\", linewidth=2.5)\n",
        "sns.lineplot(data=pd.DataFrame(historelu.history)[['accuracy', 'val_accuracy']], palette=\"tab10\", linewidth=2.5)\n",
        "plt.legend(labels=['Train loss', 'Validation loss', 'Train accuracy', 'Validation accuracy'])\n",
        "plt.show()"
      ],
      "metadata": {
        "id": "31Y57zHTXxiH"
      },
      "execution_count": null,
      "outputs": []
    }
  ]
}